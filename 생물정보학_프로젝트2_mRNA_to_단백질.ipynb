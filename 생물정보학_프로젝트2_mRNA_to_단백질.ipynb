{
  "nbformat": 4,
  "nbformat_minor": 0,
  "metadata": {
    "kernelspec": {
      "display_name": "Python 3",
      "language": "python",
      "name": "python3"
    },
    "language_info": {
      "codemirror_mode": {
        "name": "ipython",
        "version": 3
      },
      "file_extension": ".py",
      "mimetype": "text/x-python",
      "name": "python",
      "nbconvert_exporter": "python",
      "pygments_lexer": "ipython3",
      "version": "3.7.6"
    },
    "colab": {
      "name": "생물정보학 프로젝트2 - mRNA to 단백질.ipynb",
      "provenance": [],
      "collapsed_sections": [],
      "include_colab_link": true
    }
  },
  "cells": [
    {
      "cell_type": "markdown",
      "metadata": {
        "id": "view-in-github",
        "colab_type": "text"
      },
      "source": [
        "<a href=\"https://colab.research.google.com/github/greatsong/hssh2020/blob/master/%EC%83%9D%EB%AC%BC%EC%A0%95%EB%B3%B4%ED%95%99_%ED%94%84%EB%A1%9C%EC%A0%9D%ED%8A%B82_mRNA_to_%EB%8B%A8%EB%B0%B1%EC%A7%88.ipynb\" target=\"_parent\"><img src=\"https://colab.research.google.com/assets/colab-badge.svg\" alt=\"Open In Colab\"/></a>"
      ]
    },
    {
      "cell_type": "markdown",
      "metadata": {
        "id": "NmyAeuifddYY",
        "colab_type": "text"
      },
      "source": [
        "### 연습문제1. 다음과 같이 mRNA가 주어졌을 때 'AUG'로 시작하는 mRNA 염기서열을 모두 출력하시오.  \n",
        "(단, mRNA의 길이는 3의 배수이고 시작부터 3개씩 코돈을 자른다고 가정한다.)"
      ]
    },
    {
      "cell_type": "code",
      "metadata": {
        "id": "S-aqhTleddYZ",
        "colab_type": "code",
        "colab": {}
      },
      "source": [
        "# mRNA 입력\n",
        "mRNA = 'UACGAUGUAAAGUUAAUAGUAAUGGGUACUCGGUGUACAUAAUCCGGAUGGGGCCGCUGAGUAUUUAGAUCUGGUACAUACGAAUUAAUAGUAAUGGUACGGUAA'"
      ],
      "execution_count": 0,
      "outputs": []
    },
    {
      "cell_type": "code",
      "metadata": {
        "id": "u1BGALI7ddYe",
        "colab_type": "code",
        "colab": {}
      },
      "source": [
        "for i in range(0,len(mRNA),3) :\n",
        "    temp = mRNA[i] + mRNA[i+1] + mRNA[i+2]\n",
        "    if temp == 'AUG' :\n",
        "        print(mRNA[i:])"
      ],
      "execution_count": 0,
      "outputs": []
    },
    {
      "cell_type": "markdown",
      "metadata": {
        "id": "WXsm4mdRddYh",
        "colab_type": "text"
      },
      "source": [
        "### 연습문제2. 다음과 같이 mRNA가 주어졌을 때 'AUG'로 시작하고 'UAA', 'UGA', 'UAG'로 끝나는 mRNA 염기서열을 모두 출력하시오.  \n",
        "(단, mRNA의 길이는 3의 배수라고 가정한다.)"
      ]
    },
    {
      "cell_type": "code",
      "metadata": {
        "id": "xzsPLHxxddYi",
        "colab_type": "code",
        "colab": {}
      },
      "source": [
        "# mRNA 입력\n",
        "mRNA = 'UACGAUGUAAAGUUAAUAGUAAUGGGUACUCGGUGUACAUAAUCCGGAUGGGGCCGCUGAGUAUUUAGAUCUGGUACAUACGAAUUAAUAGUAAUGGUACGGUAA'"
      ],
      "execution_count": 0,
      "outputs": []
    },
    {
      "cell_type": "code",
      "metadata": {
        "id": "TaAthJzOddYl",
        "colab_type": "code",
        "outputId": "7a0bfa0b-3585-427b-e58e-9089ba970fae",
        "colab": {
          "base_uri": "https://localhost:8080/",
          "height": 71
        }
      },
      "source": [
        "for i in range(0,len(mRNA),3) :\n",
        "    temp = mRNA[i] + mRNA[i+1] + mRNA[i+2]\n",
        "    if temp == 'AUG' : \n",
        "        start = i      \n",
        "    if temp == 'UAA' or temp =='UGA' or temp == 'UAG' : \n",
        "        print(mRNA[start:i+3])"
      ],
      "execution_count": 0,
      "outputs": [
        {
          "output_type": "stream",
          "text": [
            "AUGGGUACUCGGUGUACAUAA\n",
            "AUGGGUACUCGGUGUACAUAAUCCGGAUGGGGCCGCUGA\n",
            "AUGGUACGGUAA\n"
          ],
          "name": "stdout"
        }
      ]
    },
    {
      "cell_type": "markdown",
      "metadata": {
        "id": "u6HRgW-iddYn",
        "colab_type": "text"
      },
      "source": [
        "### 연습문제3. 연습문제2번의 결과를 다음 딕셔너리를 활용하여 단백질로 바꾸시오.  \n",
        "(단, mRNA의 길이는 3의 배수라고 가정한다.)"
      ]
    },
    {
      "cell_type": "code",
      "metadata": {
        "id": "fbnTIvXFddYo",
        "colab_type": "code",
        "colab": {}
      },
      "source": [
        "# mRNA 입력\n",
        "mRNA = 'UACGAUGUAAAGUUAAUAGUAAUGGGUACUCGGUGUACAUAAUCCGGAUGGGGCCGCUGAGUAUUUAGAUCUGGUACAUACGAAUUAAUAGUAAUGGUACGGUAA'\n",
        "# mRNA to 단백질 규칙\n",
        "pair = {'UUU':'F', 'UUC':'F', 'UUA':'L', 'UUG':'L', 'CUU':'L', 'CUC':'L', 'CUA':'L', 'CUG':'L', 'AUU':'I', 'AUC':'I', 'AUA':'I', 'AUG':'M', \n",
        "        'GUU':'V', 'GUC':'V', 'GUA' : 'V', 'GUG' : 'V', 'UCU':'S', 'UCC':'S', 'UCA':'S', 'UCG':'S', 'CCU':'P', 'CCC':'P', 'CCA':'P', 'CCG' : 'P',\n",
        "        'ACU' :'T','ACC' : 'T', 'ACA':'T','ACG' : 'T', 'GCU':'A', 'GCC':'A', 'GCA':'A', 'GCG':'A', 'UAU':'Y', 'UAC':'Y', 'UAA':'-', 'UAG':'-',\n",
        "        'CAU':'H', 'CAC':'H', 'CAA':'Q', 'CAG':'Q', 'AAU':'N', 'AAC':'N', 'AAA':'K', 'AAG':'K', 'GAU':'D', 'GAC':'D', 'GAA':'E', 'GAG':'E', \n",
        "        'UGU':'C', 'UGC':'C', 'UGA':'-', 'UGG':'W', 'CGU':'R', 'CGC':'R', 'CGA':'R', 'CGG':'R', 'AGU':'S', 'AGC':'S', 'AGA':'R', 'AGG':'R', \n",
        "        'GGU':'G', 'GGC':'G', 'GGA':'G', 'GGG':'G'}"
      ],
      "execution_count": 0,
      "outputs": []
    },
    {
      "cell_type": "code",
      "metadata": {
        "id": "fEogKqncddYq",
        "colab_type": "code",
        "colab": {}
      },
      "source": [
        "for i in range(0,len(mRNA),3) : \n",
        "    temp = mRNA[i] + mRNA[i+1] + mRNA[i+2] \n",
        "    if temp == 'AUG' : \n",
        "        start = i      \n",
        "    if temp == 'UAA' or temp =='UGA' or temp == 'UAG' : \n",
        "        codon = mRNA[start:i+3]\n",
        "        print(codon)\n",
        "        for j in range(0,len(codon),3) :\n",
        "            print(pair[codon[j]+codon[j+1]+codon[j+2]])"
      ],
      "execution_count": 0,
      "outputs": []
    },
    {
      "cell_type": "markdown",
      "metadata": {
        "id": "6NA5ZEwJddYt",
        "colab_type": "text"
      },
      "source": [
        "##### python tip) print 함수의 end 옵션 살펴보기"
      ]
    },
    {
      "cell_type": "code",
      "metadata": {
        "id": "CT0o0JHMddYu",
        "colab_type": "code",
        "colab": {}
      },
      "source": [
        "for i in 'abcdefg' : \n",
        "    print(i)\n",
        "    \n",
        "for i in 'abcdefg' : \n",
        "    print(i, end = '#')\n",
        "    \n",
        "for i in 'abcdefg' : \n",
        "    print(i, end = '')"
      ],
      "execution_count": 0,
      "outputs": []
    },
    {
      "cell_type": "code",
      "metadata": {
        "id": "uvgaHnEuddYx",
        "colab_type": "code",
        "colab": {}
      },
      "source": [
        "# print 함수의 end 옵션을 적용해서 보기 좋게 출력하기\n",
        "for i in range(0,len(mRNA),3) : \n",
        "    temp = mRNA[i] + mRNA[i+1] + mRNA[i+2] \n",
        "    if temp == 'AUG' : \n",
        "        start = i      \n",
        "    if temp == 'UAA' or temp =='UGA' or temp == 'UAG' : \n",
        "        codon = mRNA[start:i+3]\n",
        "        print(codon)\n",
        "        for j in range(0,len(codon),3) :\n",
        "            print(pair[codon[j]+codon[j+1]+codon[j+2]], end = '')\n",
        "        print()"
      ],
      "execution_count": 0,
      "outputs": []
    },
    {
      "cell_type": "markdown",
      "metadata": {
        "id": "5lgrqoMHddYz",
        "colab_type": "text"
      },
      "source": [
        "### 연습문제4. 연습문제 3번의 결과에서 종결코돈을 만날 경우 새로운 개시코돈을 찾도록 수정하세요."
      ]
    },
    {
      "cell_type": "code",
      "metadata": {
        "id": "4-hc4foYddYz",
        "colab_type": "code",
        "colab": {}
      },
      "source": [
        "mRNA = 'UACGAUGUAAAGUUAAUAGUAAUGGGUACUCGGUGUACAUAAUCCGGAUGGGGCCGCUGAGUAUUUAGAUCUGGUACAUACGAAUUAAUAGUAAUGGUACGGUAA'\n",
        "pair = {'UUU':'F', 'UUC':'F', 'UUA':'L', 'UUG':'L', 'CUU':'L', 'CUC':'L', 'CUA':'L', 'CUG':'L', 'AUU':'I', 'AUC':'I', 'AUA':'I', 'AUG':'M', \n",
        "        'GUU':'V', 'GUC':'V', 'GUA' : 'V', 'GUG' : 'V', 'UCU':'S', 'UCC':'S', 'UCA':'S', 'UCG':'S', 'CCU':'P', 'CCC':'P', 'CCA':'P', 'CCG' : 'P',\n",
        "        'ACU' :'T','ACC' : 'T', 'ACA':'T','ACG' : 'T', 'GCU':'A', 'GCC':'A', 'GCA':'A', 'GCG':'A', 'UAU':'Y', 'UAC':'Y', 'UAA':'-', 'UAG':'-',\n",
        "        'CAU':'H', 'CAC':'H', 'CAA':'Q', 'CAG':'Q', 'AAU':'N', 'AAC':'N', 'AAA':'K', 'AAG':'K', 'GAU':'D', 'GAC':'D', 'GAA':'E', 'GAG':'E', \n",
        "        'UGU':'C', 'UGC':'C', 'UGA':'-', 'UGG':'W', 'CGU':'R', 'CGC':'R', 'CGA':'R', 'CGG':'R', 'AGU':'S', 'AGC':'S', 'AGA':'R', 'AGG':'R', \n",
        "        'GGU':'G', 'GGC':'G', 'GGA':'G', 'GGG':'G'}\n",
        "\n",
        "start = -1 # start 초기화\n",
        "for i in range(0,(len(mRNA)),3) :\n",
        "    temp = mRNA[i] + mRNA[i+1] + mRNA[i+2] \n",
        "    if temp == 'AUG' :\n",
        "        start = i      \n",
        "    if start != -1 and (temp == 'UAA' or temp =='UGA' or temp == 'UAG') : \n",
        "        codon = mRNA[start:i+3]\n",
        "        print(codon)\n",
        "        for j in range(0,len(codon),3) :\n",
        "            print(pair[codon[j]+codon[j+1]+codon[j+2]], end = '') \n",
        "        print() # 보기 좋게 줄을 바꾸기 위한 print 함수\n",
        "        start = -1 # start 초기화"
      ],
      "execution_count": 0,
      "outputs": []
    },
    {
      "cell_type": "code",
      "metadata": {
        "id": "Xcuw_JaOddY3",
        "colab_type": "code",
        "colab": {}
      },
      "source": [
        "# in 연산자를 활용해 조건을 간단히 바꾼 최종 결과\n",
        "mRNA = 'UACGAUGUAAAGUUAAUAGUAAUGGGUACUCGGUGUACAUAAUCCGGAUGGGGCCGCGUAUUUAGAUCUGGUACAUACGAAUUAAUAGUAAUGGUACGGUAA'\n",
        "pair = {'UUU':'F', 'UUC':'F', 'UUA':'L', 'UUG':'L', 'CUU':'L', 'CUC':'L', 'CUA':'L', 'CUG':'L', 'AUU':'I', 'AUC':'I', 'AUA':'I', 'AUG':'M', \n",
        "        'GUU':'V', 'GUC':'V', 'GUA' : 'V', 'GUG' : 'V', 'UCU':'S', 'UCC':'S', 'UCA':'S', 'UCG':'S', 'CCU':'P', 'CCC':'P', 'CCA':'P', 'CCG' : 'P',\n",
        "        'ACU' :'T','ACC' : 'T', 'ACA':'T','ACG' : 'T', 'GCU':'A', 'GCC':'A', 'GCA':'A', 'GCG':'A', 'UAU':'Y', 'UAC':'Y', 'UAA':'-', 'UAG':'-',\n",
        "        'CAU':'H', 'CAC':'H', 'CAA':'Q', 'CAG':'Q', 'AAU':'N', 'AAC':'N', 'AAA':'K', 'AAG':'K', 'GAU':'D', 'GAC':'D', 'GAA':'E', 'GAG':'E', \n",
        "        'UGU':'C', 'UGC':'C', 'UGA':'-', 'UGG':'W', 'CGU':'R', 'CGC':'R', 'CGA':'R', 'CGG':'R', 'AGU':'S', 'AGC':'S', 'AGA':'R', 'AGG':'R', \n",
        "        'GGU':'G', 'GGC':'G', 'GGA':'G', 'GGG':'G'}\n",
        "\n",
        "start = -1 \n",
        "for i in range(0,(len(mRNA)),3) :\n",
        "    temp = mRNA[i] + mRNA[i+1] + mRNA[i+2] \n",
        "    if temp == 'AUG' :\n",
        "        start = i      \n",
        "    if start != -1 and temp in ['UAA','UGA','UAG'] : # a in b -> a가 b에 포함되는가?\n",
        "        codon = mRNA[start:i+3]\n",
        "        print(codon)\n",
        "        for j in range(0,len(codon),3) :\n",
        "            print(pair[codon[j]+codon[j+1]+codon[j+2]], end = '') \n",
        "        print() \n",
        "        start = -1"
      ],
      "execution_count": 0,
      "outputs": []
    },
    {
      "cell_type": "markdown",
      "metadata": {
        "id": "ykBLHk6EddY5",
        "colab_type": "text"
      },
      "source": [
        "#### [수고 많으셨습니다!!]\n",
        "#### 1. 혹시 이해가 잘되지 않는다면 영상을 다시 보고 이해한 뒤, 직접 타이핑하며 '차근차근' 실행해보세요.\n",
        "#### 2. 이해가 안되는 부분에 대해 코드로 실험해보고, 그래도 이해가 안되면 채팅방에 질문해주세요.\n",
        "#### 3. 이 정도 수준의 복잡한 코드를 이해할 수 있다면, 이제 여러분이 새로운 코드를 작성해보세요! :)"
      ]
    },
    {
      "cell_type": "code",
      "metadata": {
        "id": "SY_X6PU-ddY6",
        "colab_type": "code",
        "colab": {}
      },
      "source": [
        ""
      ],
      "execution_count": 0,
      "outputs": []
    }
  ]
}